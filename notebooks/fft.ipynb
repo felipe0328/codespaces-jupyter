{
 "cells": [
  {
   "attachments": {},
   "cell_type": "markdown",
   "metadata": {},
   "source": [
    "# FFT Implementation\n",
    "In this notebook I'm going to implement the FFT, trying to understand it to later be able to implement it in other languages, posible golang,\n",
    "\n",
    "first I'm going to define a vector, the one I'm going to work with along this project\n",
    "for this project I'm going to use numpy as math library"
   ]
  },
  {
   "cell_type": "code",
   "execution_count": 48,
   "metadata": {},
   "outputs": [],
   "source": [
    "import numpy as np;\n",
    "\n",
    "randomValue = np.random.random(1024)"
   ]
  },
  {
   "attachments": {},
   "cell_type": "markdown",
   "metadata": {},
   "source": [
    "The following step is implementing the DFT method"
   ]
  },
  {
   "cell_type": "code",
   "execution_count": 23,
   "metadata": {},
   "outputs": [],
   "source": [
    "def dft(x):\n",
    "    N = x.shape[0]\n",
    "    n = np.arange(N)\n",
    "    k = n.reshape((N,1))\n",
    "    M = np.exp(-2j*np.pi*k*n/N)\n",
    "    return np.dot(M,x)"
   ]
  },
  {
   "attachments": {},
   "cell_type": "markdown",
   "metadata": {},
   "source": [
    "After having the dft we are going to compare the result agains the numpy fast furier transform to check that the results are similar"
   ]
  },
  {
   "cell_type": "code",
   "execution_count": 49,
   "metadata": {},
   "outputs": [
    {
     "data": {
      "text/plain": [
       "True"
      ]
     },
     "execution_count": 49,
     "metadata": {},
     "output_type": "execute_result"
    }
   ],
   "source": [
    "np.allclose(np.fft.fft(randomValue), dft(randomValue)) "
   ]
  },
  {
   "attachments": {},
   "cell_type": "markdown",
   "metadata": {},
   "source": [
    "We want to compare the performance of each method, so we are going to compare them"
   ]
  },
  {
   "cell_type": "code",
   "execution_count": 25,
   "metadata": {},
   "outputs": [
    {
     "name": "stdout",
     "output_type": "stream",
     "text": [
      "99.2 ms ± 2 ms per loop (mean ± std. dev. of 7 runs, 10 loops each)\n",
      "16.8 µs ± 1.67 µs per loop (mean ± std. dev. of 7 runs, 10,000 loops each)\n"
     ]
    }
   ],
   "source": [
    "%timeit dft(randomValue)\n",
    "%timeit np.fft.fft(randomValue)"
   ]
  },
  {
   "attachments": {},
   "cell_type": "markdown",
   "metadata": {},
   "source": [
    "so we can check that the fft is ways faster than the direct implementation of the dft\n",
    "\n",
    "Now we are going to implement the fft, using recursion"
   ]
  },
  {
   "cell_type": "code",
   "execution_count": 54,
   "metadata": {},
   "outputs": [
    {
     "data": {
      "text/plain": [
       "array([513.29402277 +0.j        ,  -7.63836832 -6.93211976j,\n",
       "       -14.44697032-13.17546471j, ...,  -5.10345705 +4.56222657j,\n",
       "       -14.44697032+13.17546471j,  -7.63836832 +6.93211976j])"
      ]
     },
     "execution_count": 54,
     "metadata": {},
     "output_type": "execute_result"
    }
   ],
   "source": [
    "def fft(x):\n",
    "    N = x.shape[0]\n",
    "\n",
    "    if N%2 > 0:\n",
    "        raise ValueError(\"Must be a power of 2\")\n",
    "    elif N <= 2:\n",
    "        return dft(x)\n",
    "    else:\n",
    "        n = np.arange(N)\n",
    "        halfN = int(N/2)\n",
    "        even = fft(x[::2])\n",
    "        odd = fft(x[1::2])\n",
    "        terms = np.exp(-2j*np.pi*n/N)\n",
    "        return np.concatenate([even + terms[:halfN] * odd, even + terms[halfN:] * odd])"
   ]
  },
  {
   "attachments": {},
   "cell_type": "markdown",
   "metadata": {},
   "source": [
    "After that we compare to check if the results are similar to the numpy fft implementation"
   ]
  },
  {
   "cell_type": "code",
   "execution_count": 55,
   "metadata": {},
   "outputs": [
    {
     "data": {
      "text/plain": [
       "True"
      ]
     },
     "execution_count": 55,
     "metadata": {},
     "output_type": "execute_result"
    }
   ],
   "source": [
    "np.allclose(np.fft.fft(randomValue), fft(randomValue))"
   ]
  },
  {
   "attachments": {},
   "cell_type": "markdown",
   "metadata": {},
   "source": [
    "And we want to test the times it takes to each method"
   ]
  },
  {
   "cell_type": "code",
   "execution_count": 56,
   "metadata": {},
   "outputs": [
    {
     "name": "stdout",
     "output_type": "stream",
     "text": [
      "101 ms ± 1.79 ms per loop (mean ± std. dev. of 7 runs, 10 loops each)\n",
      "15 ms ± 271 µs per loop (mean ± std. dev. of 7 runs, 100 loops each)\n",
      "16.3 µs ± 537 ns per loop (mean ± std. dev. of 7 runs, 100,000 loops each)\n"
     ]
    }
   ],
   "source": [
    "%timeit dft(randomValue)\n",
    "%timeit fft(randomValue)\n",
    "%timeit np.fft.fft(randomValue)"
   ]
  },
  {
   "attachments": {},
   "cell_type": "markdown",
   "metadata": {},
   "source": [
    "So, after watching the results we can see that the fft is faster than the DFT, but still being slower that the numpy implementation of the fast fourier transfor\n",
    "\n",
    "This jupiter netbook was done following this medium article\n",
    "https://towardsdatascience.com/fast-fourier-transform-937926e591cb"
   ]
  }
 ],
 "metadata": {
  "kernelspec": {
   "display_name": "Python 3",
   "language": "python",
   "name": "python3"
  },
  "language_info": {
   "codemirror_mode": {
    "name": "ipython",
    "version": 3
   },
   "file_extension": ".py",
   "mimetype": "text/x-python",
   "name": "python",
   "nbconvert_exporter": "python",
   "pygments_lexer": "ipython3",
   "version": "3.10.4 (main, Jan 25 2023, 00:13:50) [GCC 9.4.0]"
  },
  "orig_nbformat": 4,
  "vscode": {
   "interpreter": {
    "hash": "3ad933181bd8a04b432d3370b9dc3b0662ad032c4dfaa4e4f1596c548f763858"
   }
  }
 },
 "nbformat": 4,
 "nbformat_minor": 2
}
